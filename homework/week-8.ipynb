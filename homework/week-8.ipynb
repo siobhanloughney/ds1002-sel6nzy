{
  "nbformat": 4,
  "nbformat_minor": 0,
  "metadata": {
    "colab": {
      "provenance": [],
      "include_colab_link": true
    },
    "kernelspec": {
      "name": "python3",
      "display_name": "Python 3"
    },
    "language_info": {
      "name": "python"
    }
  },
  "cells": [
    {
      "cell_type": "markdown",
      "metadata": {
        "id": "view-in-github",
        "colab_type": "text"
      },
      "source": [
        "<a href=\"https://colab.research.google.com/github/siobhanloughney/ds1002-sel6nzy/blob/main/homework/week-8.ipynb\" target=\"_parent\"><img src=\"https://colab.research.google.com/assets/colab-badge.svg\" alt=\"Open In Colab\"/></a>"
      ]
    },
    {
      "cell_type": "markdown",
      "source": [
        "## While-Loops\n",
        "\n",
        "Perform the following steps in code:\n",
        "1. Define a variable and populate it with `0`.\n",
        "2. Create a while statement that evaluates whether that variable is less than or equal to `20`.\n",
        "3. Within the while loop evaluate if the variable value is even or odd.\n",
        "4. Within the while loop, if the variable value is even, print it. If not, do not print it.\n",
        "5. Within the while loop, finally add `1` to the variable before it repeats."
      ],
      "metadata": {
        "id": "But1V5T5qWJG"
      }
    },
    {
      "cell_type": "code",
      "source": [
        "# code here\n",
        "var = 0\n",
        "while var < 30:\n",
        "  if var <= 20:\n",
        "    print(\"<= 20\")\n",
        "  else:\n",
        "    print(\"> 20\")\n",
        "  if var % 2 == 1:\n",
        "    var = var+1\n",
        "    continue\n",
        "  else:\n",
        "    print(var, \": even\")\n",
        "    var = var+1"
      ],
      "metadata": {
        "id": "GyQTkbqUq6SQ",
        "outputId": "836b2149-58fe-4faa-8013-198e912f1948",
        "colab": {
          "base_uri": "https://localhost:8080/"
        }
      },
      "execution_count": 58,
      "outputs": [
        {
          "output_type": "stream",
          "name": "stdout",
          "text": [
            "<= 20\n",
            "0 : even\n",
            "<= 20\n",
            "<= 20\n",
            "2 : even\n",
            "<= 20\n",
            "<= 20\n",
            "4 : even\n",
            "<= 20\n",
            "<= 20\n",
            "6 : even\n",
            "<= 20\n",
            "<= 20\n",
            "8 : even\n",
            "<= 20\n",
            "<= 20\n",
            "10 : even\n",
            "<= 20\n",
            "<= 20\n",
            "12 : even\n",
            "<= 20\n",
            "<= 20\n",
            "14 : even\n",
            "<= 20\n",
            "<= 20\n",
            "16 : even\n",
            "<= 20\n",
            "<= 20\n",
            "18 : even\n",
            "<= 20\n",
            "<= 20\n",
            "20 : even\n",
            "> 20\n",
            "> 20\n",
            "22 : even\n",
            "> 20\n",
            "> 20\n",
            "24 : even\n",
            "> 20\n",
            "> 20\n",
            "26 : even\n",
            "> 20\n",
            "> 20\n",
            "28 : even\n",
            "> 20\n"
          ]
        }
      ]
    },
    {
      "cell_type": "markdown",
      "source": [
        "## For-Loops with Lists"
      ],
      "metadata": {
        "id": "ghRg1MRwoXvD"
      }
    },
    {
      "cell_type": "code",
      "source": [
        "# Use this list in the exercises below\n",
        "\n",
        "mylist = [9, 15, 23, 4, 92, 47, 33, 17, -4, 18, 38, -242]"
      ],
      "metadata": {
        "id": "G0PaWRBuoZdQ"
      },
      "execution_count": 59,
      "outputs": []
    },
    {
      "cell_type": "code",
      "source": [
        "# Write a command to print out all the values of this list\n",
        "# EXCEPT for any negative values. Omit them from the printing.\n",
        "for numbers in mylist:\n",
        "  if numbers < 0:\n",
        "    continue\n",
        "  else:\n",
        "    print(numbers)"
      ],
      "metadata": {
        "id": "hzoe9vw3phWs",
        "outputId": "7aab858f-769f-4814-b1b1-bb6b5a7688fe",
        "colab": {
          "base_uri": "https://localhost:8080/"
        }
      },
      "execution_count": 60,
      "outputs": [
        {
          "output_type": "stream",
          "name": "stdout",
          "text": [
            "9\n",
            "15\n",
            "23\n",
            "4\n",
            "92\n",
            "47\n",
            "33\n",
            "17\n",
            "18\n",
            "38\n"
          ]
        }
      ]
    },
    {
      "cell_type": "code",
      "source": [
        "# Repeat the command from above, but this time get\n",
        "# the absolute value of any negative values in the list\n",
        "# and print those with the other items.\n",
        "for numbers in mylist:\n",
        "  if numbers < 0:\n",
        "    print(\"Absolute Value = \", numbers*-1)\n",
        "  else:\n",
        "    print(numbers)"
      ],
      "metadata": {
        "id": "IE1-XLNrpnvy",
        "outputId": "77f62ed4-2eb0-496c-9dd5-78d2b4dc20b4",
        "colab": {
          "base_uri": "https://localhost:8080/"
        }
      },
      "execution_count": 61,
      "outputs": [
        {
          "output_type": "stream",
          "name": "stdout",
          "text": [
            "9\n",
            "15\n",
            "23\n",
            "4\n",
            "92\n",
            "47\n",
            "33\n",
            "17\n",
            "Absolute Value =  4\n",
            "18\n",
            "38\n",
            "Absolute Value =  242\n"
          ]
        }
      ]
    },
    {
      "cell_type": "code",
      "source": [
        "# Similar to above, write a command to print out items in\n",
        "# the list but omit any values greater than 20 and less than 40.\n",
        "for numbers in mylist:\n",
        "  if numbers < 20 or numbers > 40:\n",
        "    print(numbers)\n",
        "  else:\n",
        "    continue"
      ],
      "metadata": {
        "id": "rC38pZowp4LX",
        "outputId": "83b3dce4-43e8-4222-cdd7-ed81f3d4eb63",
        "colab": {
          "base_uri": "https://localhost:8080/"
        }
      },
      "execution_count": 62,
      "outputs": [
        {
          "output_type": "stream",
          "name": "stdout",
          "text": [
            "9\n",
            "15\n",
            "4\n",
            "92\n",
            "47\n",
            "17\n",
            "-4\n",
            "18\n",
            "-242\n"
          ]
        }
      ]
    },
    {
      "cell_type": "markdown",
      "source": [
        "## For-Loops with Dictionaries"
      ],
      "metadata": {
        "id": "BD1Wg4oSSEdz"
      }
    },
    {
      "cell_type": "code",
      "source": [
        "capitals = {'United States':'Washington DC',\n",
        "          'Italy':'Rome',\n",
        "          'England':'London',\n",
        "          'Thailand':'Bangkok',\n",
        "          'Brazil':'Brasilia'}"
      ],
      "metadata": {
        "id": "9DpHR_WzSGA8"
      },
      "execution_count": 63,
      "outputs": []
    },
    {
      "cell_type": "code",
      "source": [
        "# Write a command to print out all the keys of this dict\n",
        "for nations in capitals:\n",
        "  print(nations)"
      ],
      "metadata": {
        "id": "Iy_i6RE3S1ta",
        "outputId": "9fd576b9-2729-4343-9dc0-947693707bd3",
        "colab": {
          "base_uri": "https://localhost:8080/"
        }
      },
      "execution_count": 64,
      "outputs": [
        {
          "output_type": "stream",
          "name": "stdout",
          "text": [
            "United States\n",
            "Italy\n",
            "England\n",
            "Thailand\n",
            "Brazil\n"
          ]
        }
      ]
    },
    {
      "cell_type": "code",
      "source": [
        "# Write a command to print out all the values of this dict\n",
        "for cities in capitals:\n",
        "  print(capitals[cities])"
      ],
      "metadata": {
        "id": "eYNBRQAsS95v",
        "outputId": "296661d8-f918-4514-a995-803d60712444",
        "colab": {
          "base_uri": "https://localhost:8080/"
        }
      },
      "execution_count": 65,
      "outputs": [
        {
          "output_type": "stream",
          "name": "stdout",
          "text": [
            "Washington DC\n",
            "Rome\n",
            "London\n",
            "Bangkok\n",
            "Brasilia\n"
          ]
        }
      ]
    },
    {
      "cell_type": "code",
      "source": [
        "# Write a command to print all the keys and values for this dict\n",
        "for nations, cities in capitals.items():\n",
        "  print(nations)\n",
        "  print(cities)\n"
      ],
      "metadata": {
        "id": "b1KYFdDxSH7X",
        "outputId": "4393255b-971e-45f4-9947-71eb71b52105",
        "colab": {
          "base_uri": "https://localhost:8080/"
        }
      },
      "execution_count": 66,
      "outputs": [
        {
          "output_type": "stream",
          "name": "stdout",
          "text": [
            "United States\n",
            "Washington DC\n",
            "Italy\n",
            "Rome\n",
            "England\n",
            "London\n",
            "Thailand\n",
            "Bangkok\n",
            "Brazil\n",
            "Brasilia\n"
          ]
        }
      ]
    },
    {
      "cell_type": "code",
      "source": [
        "# Write a command to print only the first three values and NOTHING more.\n",
        "for cities in capitals:\n",
        "  if cities:\n",
        "    print(capitals[cities])\n",
        "  if capitals[cities] == \"London\":\n",
        "    break"
      ],
      "metadata": {
        "id": "pun10Fq2oonQ",
        "outputId": "cc6f5ab7-5057-47d5-b9e5-fc72852d0df6",
        "colab": {
          "base_uri": "https://localhost:8080/"
        }
      },
      "execution_count": 67,
      "outputs": [
        {
          "output_type": "stream",
          "name": "stdout",
          "text": [
            "Washington DC\n",
            "Rome\n",
            "London\n"
          ]
        }
      ]
    }
  ]
}