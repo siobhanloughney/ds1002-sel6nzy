{
  "nbformat": 4,
  "nbformat_minor": 0,
  "metadata": {
    "colab": {
      "provenance": [],
      "include_colab_link": true
    },
    "kernelspec": {
      "name": "python3",
      "display_name": "Python 3"
    },
    "language_info": {
      "name": "python"
    }
  },
  "cells": [
    {
      "cell_type": "markdown",
      "metadata": {
        "id": "view-in-github",
        "colab_type": "text"
      },
      "source": [
        "<a href=\"https://colab.research.google.com/github/siobhanloughney/ds1002-sel6nzy/blob/main/week_10_with_corrections.ipynb\" target=\"_parent\"><img src=\"https://colab.research.google.com/assets/colab-badge.svg\" alt=\"Open In Colab\"/></a>"
      ]
    },
    {
      "cell_type": "markdown",
      "source": [
        "# Homework - Week 10\n",
        "\n",
        "Complete the following blocks as specified in the directions. Run each cell to return the desired output. Save your notebook back to your GitHub repository and submit the GitHub URL to your notebook for review."
      ],
      "metadata": {
        "id": "phbaQTT5gy8A"
      }
    },
    {
      "cell_type": "markdown",
      "source": [
        "## Class Basics\n",
        "\n",
        "Closely inspect the class below and answer the questions in the following cells."
      ],
      "metadata": {
        "id": "38Pg39pMrDua"
      }
    },
    {
      "cell_type": "code",
      "source": [
        "\n",
        "class Products:\n",
        "  def __init__(self, id, name, price, description, manufacturer):\n",
        "    self.id = id\n",
        "    self.name = name\n",
        "    self.price = price\n",
        "    self.description = description\n",
        "    self.manufacturer = manufacturer\n",
        "\n",
        "  def print_product(self):\n",
        "    print(f\"Product {self.id} is {self.name} made by {self.manufacturer}. It costs ${self.price}\")\n"
      ],
      "metadata": {
        "id": "kdFLCHtOg53p"
      },
      "execution_count": 20,
      "outputs": []
    },
    {
      "cell_type": "code",
      "source": [
        "# What are the attributes of this class?\n",
        "    self.id = id\n",
        "    self.name = name\n",
        "    self.price = price\n",
        "    self.description = description\n",
        "    self.manufacturer = manufacturer"
      ],
      "metadata": {
        "id": "SG85PC5Q0oSi"
      },
      "execution_count": null,
      "outputs": []
    },
    {
      "cell_type": "code",
      "source": [
        "# In one line of code, create an instance of the class populating its attributes.\n",
        "instance = Products(12345, \"shirt\", 20, \"red,long-sleeved shirt\", \"A Company\")\n"
      ],
      "metadata": {
        "id": "ckuUZlUc0q8D"
      },
      "execution_count": null,
      "outputs": []
    },
    {
      "cell_type": "code",
      "source": [
        "# Referencing the instance you just created, what code is required to print out the name of the instance?\n",
        "instance.name"
      ],
      "metadata": {
        "id": "Ksp2TAiM0u5t",
        "outputId": "8012fb57-bebe-4381-a32b-1f582e3a6771",
        "colab": {
          "base_uri": "https://localhost:8080/",
          "height": 35
        }
      },
      "execution_count": 22,
      "outputs": [
        {
          "output_type": "execute_result",
          "data": {
            "text/plain": [
              "'shirt'"
            ],
            "application/vnd.google.colaboratory.intrinsic+json": {
              "type": "string"
            }
          },
          "metadata": {},
          "execution_count": 22
        }
      ]
    },
    {
      "cell_type": "markdown",
      "source": [
        "## Class Methods"
      ],
      "metadata": {
        "id": "0jQs4JYU2Kfh"
      }
    },
    {
      "cell_type": "code",
      "source": [
        "# Using the instance you created above, call the `print_product` method properly in a line of code.\n",
        "instance.print_product()\n"
      ],
      "metadata": {
        "id": "aO-zWkhd172f",
        "outputId": "ae5b8433-1e21-4cca-cdbf-d4a1f612b854",
        "colab": {
          "base_uri": "https://localhost:8080/"
        }
      },
      "execution_count": 23,
      "outputs": [
        {
          "output_type": "stream",
          "name": "stdout",
          "text": [
            "Product 12345 is shirt made by A Company. It costs $20\n"
          ]
        }
      ]
    },
    {
      "cell_type": "code",
      "source": [
        "# Now declare the class again (copy + paste from above). But now add a NEW method that you write.\n",
        "# This method should create a new attribute called \"sales_price\" that is 80% of the normal price.\n",
        "#\n",
        "# Finally, write this method to print out a statement like \"The ________ product is on sale for _____\"\n",
        "# where you fill in the blanks with the name and sales_price of the product.\n",
        "\n",
        "#CORRECTIONS:\n",
        "# I removed sales_price from the parameters because it is calculated from a separate parameter.\n",
        "# Then, I wrote a new method to create a sales_price attribute out of the price and print out a statement including each attribute.\n",
        "class Products:\n",
        "  def __init__(self, id, name, price, description, manufacturer):\n",
        "    self.id = id\n",
        "    self.name = name\n",
        "    self.price = price\n",
        "    self.description = description\n",
        "    self. manufacturer = manufacturer\n",
        "  def sales(self):\n",
        "    self.sales_price = self.price*0.8\n",
        "    print(f\"Product {self.id} is {self.name} made by {self.manufacturer}. It costs ${self.price}. The {self.description} are on sale for ${self.sales_price}.\")\n",
        "\n",
        "\n",
        "\n"
      ],
      "metadata": {
        "id": "75apcUeJ2VQo"
      },
      "execution_count": 24,
      "outputs": []
    },
    {
      "cell_type": "code",
      "source": [
        "# Execute the class above\n"
      ],
      "metadata": {
        "id": "TZiNWOl_2-oh"
      },
      "execution_count": 25,
      "outputs": []
    },
    {
      "cell_type": "code",
      "source": [
        "# Now create an instance of the class with new values.\n",
        "instance2 = Products(8764, \"shoes\", 45, \"blue sneakers\", \"Hoka\",)\n"
      ],
      "metadata": {
        "id": "TT8qK1Ie3EVX"
      },
      "execution_count": 26,
      "outputs": []
    },
    {
      "cell_type": "code",
      "source": [
        "# Finally, using the instance you just created, invoke the new method you wrote. Be sure it prints\n",
        "# the desired text described above.\n",
        "instance2.sales()\n"
      ],
      "metadata": {
        "id": "mobnFcMw3Icp",
        "outputId": "1e45dae3-995d-4711-d745-f26c3f762272",
        "colab": {
          "base_uri": "https://localhost:8080/"
        }
      },
      "execution_count": 27,
      "outputs": [
        {
          "output_type": "stream",
          "name": "stdout",
          "text": [
            "Product 8764 is shoes made by Hoka. It costs $45. The blue sneakers are on sale for $36.0.\n"
          ]
        }
      ]
    }
  ]
}