{
  "nbformat": 4,
  "nbformat_minor": 0,
  "metadata": {
    "colab": {
      "provenance": [],
      "include_colab_link": true
    },
    "kernelspec": {
      "name": "python3",
      "display_name": "Python 3"
    },
    "language_info": {
      "name": "python"
    }
  },
  "cells": [
    {
      "cell_type": "markdown",
      "metadata": {
        "id": "view-in-github",
        "colab_type": "text"
      },
      "source": [
        "<a href=\"https://colab.research.google.com/github/siobhanloughney/ds1002-sel6nzy/blob/main/homework/week-4.ipynb\" target=\"_parent\"><img src=\"https://colab.research.google.com/assets/colab-badge.svg\" alt=\"Open In Colab\"/></a>"
      ]
    },
    {
      "cell_type": "markdown",
      "source": [
        "# Homework - Week 4\n",
        "\n",
        "Complete the following blocks as specified in the directions. Run each cell to return the desired output. Save your notebook back to your GitHub repository and submit the GitHub URL for your notebook for review."
      ],
      "metadata": {
        "id": "xJ6ZWHKXW4qY"
      }
    },
    {
      "cell_type": "markdown",
      "source": [
        "## 1. Data Types\n",
        "\n",
        "```python\n",
        "s = \"Fox\"\n",
        "x = 17\n",
        "y = \"3\"\n",
        "z = \"false\"\n",
        "```\n",
        "\n",
        "Using the variables above answer these questions:"
      ],
      "metadata": {
        "id": "atxtPF2-XXiW"
      }
    },
    {
      "cell_type": "code",
      "execution_count": 3,
      "metadata": {
        "id": "mdX0VBQgW1-9",
        "outputId": "bc333253-93c3-4cf7-f86d-cdb1a9622087",
        "colab": {
          "base_uri": "https://localhost:8080/"
        }
      },
      "outputs": [
        {
          "output_type": "execute_result",
          "data": {
            "text/plain": [
              "str"
            ]
          },
          "metadata": {},
          "execution_count": 3
        }
      ],
      "source": [
        "# Write a snippet of code that displays the data type (class) of `s`\n",
        "s = \"Fox\"\n",
        "type(s)"
      ]
    },
    {
      "cell_type": "code",
      "source": [
        "# Write a snippet of code that adds `x` and `y` and displays their sum.\n",
        "x = 17\n",
        "y = \"3\"\n",
        "print(x + int(y))"
      ],
      "metadata": {
        "id": "OoLP555BbMWi",
        "outputId": "8651762d-420f-48cc-f596-b1d101ce1767",
        "colab": {
          "base_uri": "https://localhost:8080/"
        }
      },
      "execution_count": 11,
      "outputs": [
        {
          "output_type": "stream",
          "name": "stdout",
          "text": [
            "20\n"
          ]
        }
      ]
    },
    {
      "cell_type": "code",
      "source": [
        "# How might you transform z into a boolean value, if you had to? Be creative.\n",
        "z = \"false\"\n",
        "z = z.islower()\n",
        "type(z)"
      ],
      "metadata": {
        "id": "--XDmwVsbMC0",
        "outputId": "81d9ca2b-0c5c-4415-a6cf-546f127808c9",
        "colab": {
          "base_uri": "https://localhost:8080/"
        }
      },
      "execution_count": 48,
      "outputs": [
        {
          "output_type": "execute_result",
          "data": {
            "text/plain": [
              "bool"
            ]
          },
          "metadata": {},
          "execution_count": 48
        }
      ]
    },
    {
      "cell_type": "markdown",
      "source": [
        "- - -"
      ],
      "metadata": {
        "id": "zPvfX62VbK40"
      }
    },
    {
      "cell_type": "markdown",
      "source": [
        "## 2. Lists\n",
        "\n",
        "    mylist = [\"Chicago\",\"New Orleans\", \"Tempe\", \"Denver\", \"Nashville\", \"Albany\"]\n",
        "\n",
        "Using the list above, answer these questions:"
      ],
      "metadata": {
        "id": "j0mCENI3XK2i"
      }
    },
    {
      "cell_type": "code",
      "source": [
        "# Write a snippet of code that prints out \"Tempe\"\n",
        "mylist = [\"Chicago\",\"New Orleans\", \"Tempe\", \"Denver\", \"Nashville\", \"Albany\"]\n",
        "mylist[2]"
      ],
      "metadata": {
        "id": "2szfLXZcYC_7",
        "outputId": "4683959d-c614-49d7-f97a-fac009ffcb68",
        "colab": {
          "base_uri": "https://localhost:8080/",
          "height": 35
        }
      },
      "execution_count": 15,
      "outputs": [
        {
          "output_type": "execute_result",
          "data": {
            "text/plain": [
              "'Tempe'"
            ],
            "application/vnd.google.colaboratory.intrinsic+json": {
              "type": "string"
            }
          },
          "metadata": {},
          "execution_count": 15
        }
      ]
    },
    {
      "cell_type": "code",
      "source": [
        "# Write a snippet of code that adds \"Atlanta\" to this list and displays the extended list.\n",
        "mylist.append(\"Atlanta\")\n",
        "print(mylist)"
      ],
      "metadata": {
        "id": "P6IeQYoTdMhh",
        "outputId": "3965c79c-459e-44e3-de97-2ad6c0f52471",
        "colab": {
          "base_uri": "https://localhost:8080/"
        }
      },
      "execution_count": 17,
      "outputs": [
        {
          "output_type": "stream",
          "name": "stdout",
          "text": [
            "['Chicago', 'New Orleans', 'Tempe', 'Denver', 'Nashville', 'Albany', 'Atlanta', 'Atlanta']\n"
          ]
        }
      ]
    },
    {
      "cell_type": "code",
      "source": [
        "# Write a snippet of code that prints out only \"New Orleans\", \"Tempe\", \"Denver\".\n",
        "mylist[1:4]"
      ],
      "metadata": {
        "id": "t43LdDkhdM2N",
        "outputId": "a6c9d463-49e4-4f10-b7d8-1ea7e8c4d1ff",
        "colab": {
          "base_uri": "https://localhost:8080/"
        }
      },
      "execution_count": 18,
      "outputs": [
        {
          "output_type": "execute_result",
          "data": {
            "text/plain": [
              "['New Orleans', 'Tempe', 'Denver']"
            ]
          },
          "metadata": {},
          "execution_count": 18
        }
      ]
    },
    {
      "cell_type": "markdown",
      "source": [
        "- - -"
      ],
      "metadata": {
        "id": "ATrOT4dYbIVH"
      }
    },
    {
      "cell_type": "markdown",
      "source": [
        "# 3. Dictionaries\n",
        "\n",
        "    mydict = {\"VA\":\"Richmond\", \"NC\":\"Raleigh\", \"NJ\":\"Trenton\", \"PA\":\"Harrisburg\", \"NY\":\"Albany\"}\n",
        "\n",
        "Answer the following questions:"
      ],
      "metadata": {
        "id": "GeXcT_9sYEdx"
      }
    },
    {
      "cell_type": "code",
      "source": [
        "# Write a snippet of code that returns \"Trenton\".\n",
        "mydict = {\"VA\":\"Richmond\", \"NC\":\"Raleigh\", \"NJ\":\"Trenton\", \"PA\":\"Harrisburg\", \"NY\":\"Albany\"}\n",
        "mydict[\"NJ\"]"
      ],
      "metadata": {
        "id": "v3fvvKP4ZUvJ",
        "outputId": "b6e8df73-33c5-4234-b218-b60039d24819",
        "colab": {
          "base_uri": "https://localhost:8080/",
          "height": 35
        }
      },
      "execution_count": 19,
      "outputs": [
        {
          "output_type": "execute_result",
          "data": {
            "text/plain": [
              "'Trenton'"
            ],
            "application/vnd.google.colaboratory.intrinsic+json": {
              "type": "string"
            }
          },
          "metadata": {},
          "execution_count": 19
        }
      ]
    },
    {
      "cell_type": "code",
      "source": [
        "# Write a snippet of code that adds \"CO\":\"Denver\" to `mydict`.\n",
        "# Remember the built-in .update({'key': 'value'}) method.\n",
        "mydict.update({\"CO\":\"Denver\"})\n",
        "print(mydict)"
      ],
      "metadata": {
        "id": "OEwUkIDNa90b",
        "outputId": "b1359191-1960-4c58-86dd-f51a1c26a965",
        "colab": {
          "base_uri": "https://localhost:8080/"
        }
      },
      "execution_count": 24,
      "outputs": [
        {
          "output_type": "stream",
          "name": "stdout",
          "text": [
            "{'VA': 'Richmond', 'NC': 'Raleigh', 'NJ': 'Trenton', 'PA': 'Harrisburg', 'NY': 'Albany', 'CO': 'Denver'}\n"
          ]
        }
      ]
    },
    {
      "cell_type": "code",
      "source": [
        "# Write a snippet of code that returns all the keys in `mydict`\n",
        "mydict.keys()"
      ],
      "metadata": {
        "id": "VwoLtOILbF2K",
        "outputId": "092d25b0-4099-441d-8f5c-53ca471053fc",
        "colab": {
          "base_uri": "https://localhost:8080/"
        }
      },
      "execution_count": 25,
      "outputs": [
        {
          "output_type": "execute_result",
          "data": {
            "text/plain": [
              "dict_keys(['VA', 'NC', 'NJ', 'PA', 'NY', 'CO'])"
            ]
          },
          "metadata": {},
          "execution_count": 25
        }
      ]
    },
    {
      "cell_type": "markdown",
      "source": [
        "- - -"
      ],
      "metadata": {
        "id": "svpBBTSYa5Dh"
      }
    },
    {
      "cell_type": "markdown",
      "source": [
        "# 4. NumPy Arrays\n",
        "\n",
        "Create an `ndarray` that contains the following values and assign the array to a variable.\n",
        "\n",
        "    2, 3, 5, 7, 11, 13, 17, 19, 23, 29, 31, 37\n",
        "\n",
        "Using that variable, answer the following questions:"
      ],
      "metadata": {
        "id": "DkVtHJBoYW34"
      }
    },
    {
      "cell_type": "code",
      "source": [
        "# Write a snippet of code that prints the data type of the elements in the array.\n",
        "myndarray.dtype"
      ],
      "metadata": {
        "id": "db5UdbrVZSiJ",
        "outputId": "3fc2c699-0435-4337-87f7-17b5a8ada567",
        "colab": {
          "base_uri": "https://localhost:8080/"
        }
      },
      "execution_count": 30,
      "outputs": [
        {
          "output_type": "execute_result",
          "data": {
            "text/plain": [
              "dtype('int64')"
            ]
          },
          "metadata": {},
          "execution_count": 30
        }
      ]
    },
    {
      "cell_type": "code",
      "source": [
        "# Write a snippet of code that displays `11` from the array.\n",
        "myndarray[4]"
      ],
      "metadata": {
        "id": "8je9wRG9aoWb",
        "outputId": "327c0296-0f81-4bc1-dc32-c324fe46de0d",
        "colab": {
          "base_uri": "https://localhost:8080/"
        }
      },
      "execution_count": 31,
      "outputs": [
        {
          "output_type": "execute_result",
          "data": {
            "text/plain": [
              "11"
            ]
          },
          "metadata": {},
          "execution_count": 31
        }
      ]
    },
    {
      "cell_type": "code",
      "source": [
        "# Write a snippet of code that multiplies each array element by `7` and displays the new values.\n",
        "myndarray * 7"
      ],
      "metadata": {
        "id": "GBT5RzQfaovb",
        "outputId": "48a40496-656c-48be-947b-02ad46212ce1",
        "colab": {
          "base_uri": "https://localhost:8080/"
        }
      },
      "execution_count": 32,
      "outputs": [
        {
          "output_type": "execute_result",
          "data": {
            "text/plain": [
              "array([ 14,  21,  35,  49,  77,  91, 119, 133, 161, 203, 217, 259])"
            ]
          },
          "metadata": {},
          "execution_count": 32
        }
      ]
    }
  ]
}